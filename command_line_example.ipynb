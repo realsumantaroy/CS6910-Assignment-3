{
  "cells": [
    {
      "cell_type": "markdown",
      "metadata": {
        "id": "G2h-NkfM-isA"
      },
      "source": [
        "#Training the NO-ATTENTION based seq2seq model for the best hyperparameters"
      ]
    },
    {
      "cell_type": "code",
      "execution_count": 3,
      "metadata": {
        "colab": {
          "base_uri": "https://localhost:8080/"
        },
        "id": "9w_XTKuT494k",
        "outputId": "7f88f53a-aebc-499c-90d3-7ad3198258e9"
      },
      "outputs": [
        {
          "name": "stdout",
          "output_type": "stream",
          "text": [
            "Requirement already satisfied: wandb in /usr/local/lib/python3.10/dist-packages (0.17.0)\n",
            "Requirement already satisfied: click!=8.0.0,>=7.1 in /usr/local/lib/python3.10/dist-packages (from wandb) (8.1.7)\n",
            "Requirement already satisfied: docker-pycreds>=0.4.0 in /usr/local/lib/python3.10/dist-packages (from wandb) (0.4.0)\n",
            "Requirement already satisfied: gitpython!=3.1.29,>=1.0.0 in /usr/local/lib/python3.10/dist-packages (from wandb) (3.1.43)\n",
            "Requirement already satisfied: platformdirs in /usr/local/lib/python3.10/dist-packages (from wandb) (4.2.1)\n",
            "Requirement already satisfied: protobuf!=4.21.0,<5,>=3.19.0 in /usr/local/lib/python3.10/dist-packages (from wandb) (3.20.3)\n",
            "Requirement already satisfied: psutil>=5.0.0 in /usr/local/lib/python3.10/dist-packages (from wandb) (5.9.5)\n",
            "Requirement already satisfied: pyyaml in /usr/local/lib/python3.10/dist-packages (from wandb) (6.0.1)\n",
            "Requirement already satisfied: requests<3,>=2.0.0 in /usr/local/lib/python3.10/dist-packages (from wandb) (2.31.0)\n",
            "Requirement already satisfied: sentry-sdk>=1.0.0 in /usr/local/lib/python3.10/dist-packages (from wandb) (2.2.0)\n",
            "Requirement already satisfied: setproctitle in /usr/local/lib/python3.10/dist-packages (from wandb) (1.3.3)\n",
            "Requirement already satisfied: setuptools in /usr/local/lib/python3.10/dist-packages (from wandb) (67.7.2)\n",
            "Requirement already satisfied: six>=1.4.0 in /usr/local/lib/python3.10/dist-packages (from docker-pycreds>=0.4.0->wandb) (1.16.0)\n",
            "Requirement already satisfied: gitdb<5,>=4.0.1 in /usr/local/lib/python3.10/dist-packages (from gitpython!=3.1.29,>=1.0.0->wandb) (4.0.11)\n",
            "Requirement already satisfied: charset-normalizer<4,>=2 in /usr/local/lib/python3.10/dist-packages (from requests<3,>=2.0.0->wandb) (3.3.2)\n",
            "Requirement already satisfied: idna<4,>=2.5 in /usr/local/lib/python3.10/dist-packages (from requests<3,>=2.0.0->wandb) (3.7)\n",
            "Requirement already satisfied: urllib3<3,>=1.21.1 in /usr/local/lib/python3.10/dist-packages (from requests<3,>=2.0.0->wandb) (2.0.7)\n",
            "Requirement already satisfied: certifi>=2017.4.17 in /usr/local/lib/python3.10/dist-packages (from requests<3,>=2.0.0->wandb) (2024.2.2)\n",
            "Requirement already satisfied: smmap<6,>=3.0.1 in /usr/local/lib/python3.10/dist-packages (from gitdb<5,>=4.0.1->gitpython!=3.1.29,>=1.0.0->wandb) (5.0.1)\n",
            "Requirement already satisfied: GPUtil in /usr/local/lib/python3.10/dist-packages (1.4.0)\n",
            "\u001b[34m\u001b[1mwandb\u001b[0m: W&B API key is configured. Use \u001b[1m`wandb login --relogin`\u001b[0m to force relogin\n",
            "\u001b[34m\u001b[1mwandb\u001b[0m: Appending key for api.wandb.ai to your netrc file: /root/.netrc\n",
            "\u001b[34m\u001b[1mwandb\u001b[0m: Currently logged in as: \u001b[33msumanta_roy\u001b[0m. Use \u001b[1m`wandb login --relogin`\u001b[0m to force relogin\n",
            "\u001b[34m\u001b[1mwandb\u001b[0m: Tracking run with wandb version 0.17.0\n",
            "\u001b[34m\u001b[1mwandb\u001b[0m: Run data is saved locally in \u001b[35m\u001b[1m/content/wandb/run-20240517_144416-qi79fm9r\u001b[0m\n",
            "\u001b[34m\u001b[1mwandb\u001b[0m: Run \u001b[1m`wandb offline`\u001b[0m to turn off syncing.\n",
            "\u001b[34m\u001b[1mwandb\u001b[0m: Syncing run \u001b[33mrich-tree-156\u001b[0m\n",
            "\u001b[34m\u001b[1mwandb\u001b[0m: ⭐️ View project at \u001b[34m\u001b[4mhttps://wandb.ai/sumanta_roy/CS6910_assignment_3\u001b[0m\n",
            "\u001b[34m\u001b[1mwandb\u001b[0m: 🚀 View run at \u001b[34m\u001b[4mhttps://wandb.ai/sumanta_roy/CS6910_assignment_3/runs/qi79fm9r\u001b[0m\n",
            "Contents of extracted folder: ['.config', 'train_noattention.py', '__MACOSX', 'aksharantar_sampled.zip', '.ipynb_checkpoints', 'aksharantar_sampled', 'wandb', 'sample_data']\n",
            "Trained on: cuda\n",
            "/usr/local/lib/python3.10/dist-packages/torch/_tensor.py:868: UserWarning: non-inplace resize is deprecated\n",
            "  warnings.warn(\"non-inplace resize is deprecated\")\n",
            "Epoch: 1/10; Train loss: 0.7930999560299374; Val loss: 0.5064627329508463\n",
            "Training accuracy: 5.322265625; Validation accuracy: 19.5556640625\n",
            "Epoch: 2/10; Train loss: 0.45934603452682493; Val loss: 0.48275553718918846\n",
            "Training accuracy: 18.060546875; Validation accuracy: 27.2705078125\n",
            "Epoch: 3/10; Train loss: 0.3959167680853889; Val loss: 0.4276865259522483\n",
            "Training accuracy: 24.890625; Validation accuracy: 31.1279296875\n",
            "Epoch: 4/10; Train loss: 0.35562011226302104; Val loss: 0.4280814503630002\n",
            "Training accuracy: 30.0546875; Validation accuracy: 31.8603515625\n",
            "Epoch: 5/10; Train loss: 0.3238391593950135; Val loss: 0.4157009085729009\n",
            "Training accuracy: 34.2265625; Validation accuracy: 34.2041015625\n",
            "Epoch: 6/10; Train loss: 0.29557980848210197; Val loss: 0.4014567392213004\n",
            "Training accuracy: 38.330078125; Validation accuracy: 35.7177734375\n",
            "Epoch: 7/10; Train loss: 0.2809358636254356; Val loss: 0.4254169630862418\n",
            "Training accuracy: 41.228515625; Validation accuracy: 36.1083984375\n",
            "Epoch: 8/10; Train loss: 0.25112622804584955; Val loss: 0.4455622817788805\n",
            "Training accuracy: 44.71484375; Validation accuracy: 37.2314453125\n",
            "Epoch: 9/10; Train loss: 0.23698563046398616; Val loss: 0.43605276942253113\n",
            "Training accuracy: 47.779296875; Validation accuracy: 36.62109375\n",
            "Epoch: 10/10; Train loss: 0.21765246804271426; Val loss: 0.45201538290296284\n",
            "Training accuracy: 51.19140625; Validation accuracy: 37.4267578125\n",
            "\u001b[34m\u001b[1mwandb\u001b[0m:                                                                                \n",
            "\u001b[34m\u001b[1mwandb\u001b[0m: \n",
            "\u001b[34m\u001b[1mwandb\u001b[0m: Run history:\n",
            "\u001b[34m\u001b[1mwandb\u001b[0m:               epoch ▁▂▃▃▄▅▆▆▇█\n",
            "\u001b[34m\u001b[1mwandb\u001b[0m:   training_accuracy ▁▃▄▅▅▆▆▇▇█\n",
            "\u001b[34m\u001b[1mwandb\u001b[0m:       training_loss █▄▃▃▂▂▂▁▁▁\n",
            "\u001b[34m\u001b[1mwandb\u001b[0m: validation_accuracy ▁▄▆▆▇▇▇███\n",
            "\u001b[34m\u001b[1mwandb\u001b[0m:     validation_loss █▆▃▃▂▁▃▄▃▄\n",
            "\u001b[34m\u001b[1mwandb\u001b[0m: \n",
            "\u001b[34m\u001b[1mwandb\u001b[0m: Run summary:\n",
            "\u001b[34m\u001b[1mwandb\u001b[0m:               epoch 10\n",
            "\u001b[34m\u001b[1mwandb\u001b[0m:   training_accuracy 51.19141\n",
            "\u001b[34m\u001b[1mwandb\u001b[0m:       training_loss 0.21765\n",
            "\u001b[34m\u001b[1mwandb\u001b[0m: validation_accuracy 37.42676\n",
            "\u001b[34m\u001b[1mwandb\u001b[0m:     validation_loss 0.45202\n",
            "\u001b[34m\u001b[1mwandb\u001b[0m: \n",
            "\u001b[34m\u001b[1mwandb\u001b[0m: 🚀 View run \u001b[33mrich-tree-156\u001b[0m at: \u001b[34m\u001b[4mhttps://wandb.ai/sumanta_roy/CS6910_assignment_3/runs/qi79fm9r\u001b[0m\n",
            "\u001b[34m\u001b[1mwandb\u001b[0m: ⭐️ View project at: \u001b[34m\u001b[4mhttps://wandb.ai/sumanta_roy/CS6910_assignment_3\u001b[0m\n",
            "\u001b[34m\u001b[1mwandb\u001b[0m: Synced 5 W&B file(s), 0 media file(s), 0 artifact file(s) and 0 other file(s)\n",
            "\u001b[34m\u001b[1mwandb\u001b[0m: Find logs at: \u001b[35m\u001b[1m./wandb/run-20240517_144416-qi79fm9r/logs\u001b[0m\n"
          ]
        }
      ],
      "source": [
        "# Install required packages\n",
        "!pip install wandb\n",
        "!pip install GPUtil\n",
        "\n",
        "!python train_noattention.py -wp CS6910_assignment_3 -we sumanta_roy"
      ]
    },
    {
      "cell_type": "markdown",
      "metadata": {},
      "source": [
        "#Training the ATTENTION based seq2seq model for the best hyperparameters"
      ]
    },
    {
      "cell_type": "code",
      "execution_count": 6,
      "metadata": {
        "colab": {
          "base_uri": "https://localhost:8080/"
        },
        "id": "AftDelYP-39_",
        "outputId": "bca83713-d07e-41e7-d21c-449dc606fef6"
      },
      "outputs": [
        {
          "name": "stdout",
          "output_type": "stream",
          "text": [
            "\u001b[34m\u001b[1mwandb\u001b[0m: Currently logged in as: \u001b[33msumanta_roy\u001b[0m. Use \u001b[1m`wandb login --relogin`\u001b[0m to force relogin\n",
            "\u001b[34m\u001b[1mwandb\u001b[0m: Appending key for api.wandb.ai to your netrc file: /root/.netrc\n",
            "\u001b[34m\u001b[1mwandb\u001b[0m: Tracking run with wandb version 0.17.0\n",
            "\u001b[34m\u001b[1mwandb\u001b[0m: Run data is saved locally in \u001b[35m\u001b[1m/content/wandb/run-20240517_150957-aoshx1yz\u001b[0m\n",
            "\u001b[34m\u001b[1mwandb\u001b[0m: Run \u001b[1m`wandb offline`\u001b[0m to turn off syncing.\n",
            "\u001b[34m\u001b[1mwandb\u001b[0m: Syncing run \u001b[33msolar-donkey-158\u001b[0m\n",
            "\u001b[34m\u001b[1mwandb\u001b[0m: ⭐️ View project at \u001b[34m\u001b[4mhttps://wandb.ai/sumanta_roy/CS6910_assignment_3\u001b[0m\n",
            "\u001b[34m\u001b[1mwandb\u001b[0m: 🚀 View run at \u001b[34m\u001b[4mhttps://wandb.ai/sumanta_roy/CS6910_assignment_3/runs/aoshx1yz\u001b[0m\n",
            "Contents of extracted folder: ['.config', 'train_attention.py', 'train_noattention.py', '__MACOSX', 'aksharantar_sampled.zip', '.ipynb_checkpoints', 'aksharantar_sampled', 'wandb', 'sample_data']\n",
            "Trained on: cuda\n",
            "/usr/local/lib/python3.10/dist-packages/torch/_tensor.py:868: UserWarning: non-inplace resize is deprecated\n",
            "  warnings.warn(\"non-inplace resize is deprecated\")\n",
            "Epoch: 1/10; Train loss: 1.149457570938837; Val loss: 1.30776393981207\n",
            "Training accuracy: 0.119140625; Validation accuracy: 2.6611328125\n",
            "Epoch: 2/10; Train loss: 0.4556130632900056; Val loss: 0.9845966100692749\n",
            "Training accuracy: 8.16015625; Validation accuracy: 20.5810546875\n",
            "Epoch: 3/10; Train loss: 0.23843733395848957; Val loss: 0.9583437726611183\n",
            "Training accuracy: 22.537109375; Validation accuracy: 29.6630859375\n",
            "Epoch: 4/10; Train loss: 0.18012101758094062; Val loss: 0.9655715170360747\n",
            "Training accuracy: 29.892578125; Validation accuracy: 35.4248046875\n",
            "Epoch: 5/10; Train loss: 0.15212714558555968; Val loss: 0.9296645039603824\n",
            "Training accuracy: 34.931640625; Validation accuracy: 36.71875\n",
            "Epoch: 6/10; Train loss: 0.13461771868524097; Val loss: 0.9427189429601034\n",
            "Training accuracy: 39.31640625; Validation accuracy: 39.2822265625\n",
            "Epoch: 7/10; Train loss: 0.12078456614698682; Val loss: 0.950954794883728\n",
            "Training accuracy: 43.197265625; Validation accuracy: 39.3310546875\n",
            "Epoch: 8/10; Train loss: 0.1087603482462111; Val loss: 0.9696834371203468\n",
            "Training accuracy: 46.412109375; Validation accuracy: 40.1123046875\n",
            "Epoch: 9/10; Train loss: 0.09877117088862827; Val loss: 0.9727397759755453\n",
            "Training accuracy: 49.775390625; Validation accuracy: 40.9912109375\n",
            "Epoch: 10/10; Train loss: 0.08935664520377204; Val loss: 0.9744192248299008\n",
            "Training accuracy: 53.43359375; Validation accuracy: 40.869140625\n",
            "Initial GPU Usage\n",
            "| ID | GPU | MEM |\n",
            "------------------\n",
            "|  0 | 49% | 10% |\n",
            "GPU Usage after emptying the cache\n",
            "| ID | GPU | MEM |\n",
            "------------------\n",
            "|  0 |  6% |  1% |\n",
            "\u001b[34m\u001b[1mwandb\u001b[0m:                                                                                \n",
            "\u001b[34m\u001b[1mwandb\u001b[0m: \n",
            "\u001b[34m\u001b[1mwandb\u001b[0m: Run history:\n",
            "\u001b[34m\u001b[1mwandb\u001b[0m:               epoch ▁▂▃▃▄▅▆▆▇█\n",
            "\u001b[34m\u001b[1mwandb\u001b[0m:   training_accuracy ▁▂▄▅▆▆▇▇██\n",
            "\u001b[34m\u001b[1mwandb\u001b[0m:       training_loss █▃▂▂▁▁▁▁▁▁\n",
            "\u001b[34m\u001b[1mwandb\u001b[0m: validation_accuracy ▁▄▆▇▇█████\n",
            "\u001b[34m\u001b[1mwandb\u001b[0m:     validation_loss █▂▂▂▁▁▁▂▂▂\n",
            "\u001b[34m\u001b[1mwandb\u001b[0m: \n",
            "\u001b[34m\u001b[1mwandb\u001b[0m: Run summary:\n",
            "\u001b[34m\u001b[1mwandb\u001b[0m:               epoch 10\n",
            "\u001b[34m\u001b[1mwandb\u001b[0m:   training_accuracy 53.43359\n",
            "\u001b[34m\u001b[1mwandb\u001b[0m:       training_loss 0.08936\n",
            "\u001b[34m\u001b[1mwandb\u001b[0m: validation_accuracy 40.86914\n",
            "\u001b[34m\u001b[1mwandb\u001b[0m:     validation_loss 0.97442\n",
            "\u001b[34m\u001b[1mwandb\u001b[0m: \n",
            "\u001b[34m\u001b[1mwandb\u001b[0m: 🚀 View run \u001b[33msolar-donkey-158\u001b[0m at: \u001b[34m\u001b[4mhttps://wandb.ai/sumanta_roy/CS6910_assignment_3/runs/aoshx1yz\u001b[0m\n",
            "\u001b[34m\u001b[1mwandb\u001b[0m: ⭐️ View project at: \u001b[34m\u001b[4mhttps://wandb.ai/sumanta_roy/CS6910_assignment_3\u001b[0m\n",
            "\u001b[34m\u001b[1mwandb\u001b[0m: Synced 5 W&B file(s), 0 media file(s), 0 artifact file(s) and 0 other file(s)\n",
            "\u001b[34m\u001b[1mwandb\u001b[0m: Find logs at: \u001b[35m\u001b[1m./wandb/run-20240517_150957-aoshx1yz/logs\u001b[0m\n"
          ]
        }
      ],
      "source": [
        "!python train_attention.py -wp CS6910_assignment_3 -we sumanta_roy"
      ]
    },
    {
      "cell_type": "code",
      "execution_count": null,
      "metadata": {
        "id": "lJDA68R6GipT"
      },
      "outputs": [],
      "source": []
    }
  ],
  "metadata": {
    "accelerator": "GPU",
    "colab": {
      "gpuType": "T4",
      "provenance": []
    },
    "kernelspec": {
      "display_name": "Python 3",
      "name": "python3"
    },
    "language_info": {
      "name": "python"
    }
  },
  "nbformat": 4,
  "nbformat_minor": 0
}
